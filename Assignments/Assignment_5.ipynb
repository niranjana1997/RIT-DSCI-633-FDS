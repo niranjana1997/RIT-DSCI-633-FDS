{
  "nbformat": 4,
  "nbformat_minor": 0,
  "metadata": {
    "kernelspec": {
      "display_name": "Python 3",
      "language": "python",
      "name": "python3"
    },
    "language_info": {
      "codemirror_mode": {
        "name": "ipython",
        "version": 3
      },
      "file_extension": ".py",
      "mimetype": "text/x-python",
      "name": "python",
      "nbconvert_exporter": "python",
      "pygments_lexer": "ipython3",
      "version": "3.7.4"
    },
    "colab": {
      "name": "Assignment_5.ipynb",
      "provenance": [],
      "collapsed_sections": [
        "80Z9iHiyayml",
        "XCaOybCUaymn",
        "7QYSk0I7aymo",
        "4aKc6qjJaymq",
        "WT8IdnL7aymr"
      ]
    }
  },
  "cells": [
    {
      "cell_type": "markdown",
      "metadata": {
        "id": "Y_SGHTUyxHGm"
      },
      "source": [
        "**Importing libraries**"
      ]
    },
    {
      "cell_type": "code",
      "metadata": {
        "id": "gFsbbe-xaymb"
      },
      "source": [
        "import pandas as pd\n",
        "import numpy as np\n",
        "import matplotlib.pyplot as plt\n",
        "from keras.utils import np_utils"
      ],
      "execution_count": null,
      "outputs": []
    },
    {
      "cell_type": "markdown",
      "metadata": {
        "id": "JbHwRWEMuzaf"
      },
      "source": [
        "**Loading data**"
      ]
    },
    {
      "cell_type": "code",
      "metadata": {
        "id": "HixgeNryaymd"
      },
      "source": [
        "from keras.datasets import mnist\n",
        "data = mnist.load_data()"
      ],
      "execution_count": null,
      "outputs": []
    },
    {
      "cell_type": "markdown",
      "metadata": {
        "id": "OVw1GxZQw7hn"
      },
      "source": [
        "**Dividing Train/Test data**"
      ]
    },
    {
      "cell_type": "code",
      "metadata": {
        "colab": {
          "base_uri": "https://localhost:8080/"
        },
        "id": "yZTGZx8_aymd",
        "outputId": "0f345c6c-2b03-46a7-e5bf-d69dcd53553c"
      },
      "source": [
        "(X_train, y_train), (X_test, y_test) = data\n",
        "X_train[0].shape\n",
        "X_train.shape"
      ],
      "execution_count": null,
      "outputs": [
        {
          "output_type": "execute_result",
          "data": {
            "text/plain": [
              "(60000, 28, 28)"
            ]
          },
          "metadata": {},
          "execution_count": 5
        }
      ]
    },
    {
      "cell_type": "markdown",
      "metadata": {
        "id": "lZ-r8hBWzFqx"
      },
      "source": [
        "**Plotting values in X_train**"
      ]
    },
    {
      "cell_type": "code",
      "metadata": {
        "colab": {
          "base_uri": "https://localhost:8080/",
          "height": 233
        },
        "id": "Km8E3FQUaymf",
        "outputId": "6451dc7b-8cab-4e9c-fc3e-4fe7221a24f0"
      },
      "source": [
        "fig = plt.figure()\n",
        "for i in range(4):\n",
        "  plt.subplot(2,4,i+1)\n",
        "  plt.tight_layout()\n",
        "  plt.imshow(X_train[i], cmap='gray', interpolation='none')\n",
        "  plt.title(\"Digit: {}\".format(y_train[i]))\n",
        "  plt.xticks([])\n",
        "  plt.yticks([])\n",
        "fig"
      ],
      "execution_count": null,
      "outputs": [
        {
          "output_type": "execute_result",
          "data": {
            "image/png": "[encoded data removed]",
            "text/plain": [
              "<Figure size 432x288 with 4 Axes>"
            ]
          },
          "metadata": {},
          "execution_count": 6
        },
        {
          "output_type": "display_data",
          "data": {
            "image/png": "[encoded data removed]",
            "text/plain": [
              "<Figure size 432x288 with 4 Axes>"
            ]
          },
          "metadata": {}
        }
      ]
    },
    {
      "cell_type": "markdown",
      "metadata": {
        "id": "FxiInVBVzoXK"
      },
      "source": [
        "Reshaping and normalizing data"
      ]
    },
    {
      "cell_type": "code",
      "metadata": {
        "colab": {
          "base_uri": "https://localhost:8080/"
        },
        "id": "OwwYmsfKztvM",
        "outputId": "13152351-a745-48b0-b0e7-c6e9d79579a3"
      },
      "source": [
        "# let's print the shape before we reshape and normalize\n",
        "print(\"X_train shape\", X_train.shape)\n",
        "print(\"y_train shape\", y_train.shape)\n",
        "print(\"X_test shape\", X_test.shape)\n",
        "print(\"y_test shape\", y_test.shape)\n",
        "\n",
        "# building the input vector from the 28x28 pixels\n",
        "X_train = X_train.reshape(60000, 784)\n",
        "X_test = X_test.reshape(10000, 784)\n",
        "X_train = X_train.astype('float32')\n",
        "X_test = X_test.astype('float32')\n",
        "\n",
        "# normalizing the data to help with the training\n",
        "X_train /= 255\n",
        "X_test /= 255\n",
        "\n",
        "# print the final input shape ready for training\n",
        "print(\"Train matrix shape\", X_train.shape)\n",
        "print(\"Test matrix shape\", X_test.shape)\n",
        "\n",
        "# one-hot encoding using keras' numpy-related utilities\n",
        "n_classes = 10\n",
        "print(\"Shape before one-hot encoding: \", y_train.shape)\n",
        "Y_train = np_utils.to_categorical(y_train, n_classes)\n",
        "Y_test = np_utils.to_categorical(y_test, n_classes)\n",
        "print(\"Shape after one-hot encoding: \", Y_train.shape)"
      ],
      "execution_count": null,
      "outputs": [
        {
          "output_type": "stream",
          "name": "stdout",
          "text": [
            "X_train shape (60000, 28, 28)\n",
            "y_train shape (60000,)\n",
            "X_test shape (10000, 28, 28)\n",
            "y_test shape (10000,)\n",
            "Train matrix shape (60000, 784)\n",
            "Test matrix shape (10000, 784)\n",
            "Shape before one-hot encoding:  (60000,)\n",
            "Shape after one-hot encoding:  (60000, 10)\n"
          ]
        }
      ]
    },
    {
      "cell_type": "markdown",
      "metadata": {
        "id": "fsaZmsN3-9vx"
      },
      "source": [
        "**Building a dense network**"
      ]
    },
    {
      "cell_type": "code",
      "metadata": {
        "id": "4M62WvTjcA6s"
      },
      "source": [
        "# Importing the required Keras modules containing model and layers\n",
        "from tensorflow.keras.models import Sequential\n",
        "from tensorflow.keras.layers import Dense, Flatten, Dropout\n",
        "import tensorflow as tf\n",
        "from keras.callbacks import LearningRateScheduler\n",
        "from keras.callbacks import EarlyStopping\n"
      ],
      "execution_count": null,
      "outputs": []
    },
    {
      "cell_type": "code",
      "metadata": {
        "id": "JSFHwxdFhamy"
      },
      "source": [
        "epochs = 75\n",
        "learning_rate = 0.002\n",
        "decay_rate = learning_rate / epochs\n",
        "input_dim = X_train.shape[1]\n",
        "\n",
        "num_classes = 10\n",
        "\n"
      ],
      "execution_count": null,
      "outputs": []
    },
    {
      "cell_type": "code",
      "metadata": {
        "id": "Z3eb39sOcZPe"
      },
      "source": [
        "def dense_model_adam():\n",
        "  # Creating a Sequential Model and adding the layers\n",
        "  model = Sequential()\n",
        "  model.add(Dense(40, activation=tf.nn.relu))\n",
        "  model.add(Flatten())\n",
        "  model.add(Dense(20,activation=tf.nn.softmax))\n",
        "  model.add(Dropout(0.2))\n",
        "  model.add(Dense(10,activation=tf.nn.sigmoid))\n",
        "\n",
        "  model.add(Dense(num_classes,activation=tf.nn.softmax))\n",
        "\n",
        "  model.compile(loss='categorical_crossentropy', metrics=['accuracy'], optimizer='adam')\n",
        "\n",
        "  return model"
      ],
      "execution_count": null,
      "outputs": []
    },
    {
      "cell_type": "code",
      "metadata": {
        "id": "uW_CPojIbJZO"
      },
      "source": [
        "def exp_learning(epochs):\n",
        "  lrate = learning_rate * np.exp(-decay_rate*epochs)\n",
        "  return lrate\n",
        "\n",
        "exp_model = dense_model()\n",
        "lr_rate = LearningRateScheduler(exp_learning)\n",
        "\n",
        "\n",
        "es = EarlyStopping(monitor='val_loss', mode='min', verbose=1)\n",
        "\n",
        "callbacks_list = [lr_rate,es]"
      ],
      "execution_count": null,
      "outputs": []
    },
    {
      "cell_type": "code",
      "metadata": {
        "colab": {
          "base_uri": "https://localhost:8080/"
        },
        "id": "u7Gcz44neaqd",
        "outputId": "fcfd8730-8137-451a-d986-7f9e9048ddd0"
      },
      "source": [
        "exp_history = exp_model.fit(X_train, Y_train,\n",
        "                        batch_size=128,\n",
        "                        epochs=epochs,\n",
        "                        callbacks=callbacks_list,\n",
        "                        verbose=1,\n",
        "                        validation_data=(X_test, Y_test))"
      ],
      "execution_count": null,
      "outputs": [
        {
          "output_type": "stream",
          "name": "stdout",
          "text": [
            "Epoch 1/75\n",
            "469/469 [==============================] - 2s 3ms/step - loss: 1.8608 - accuracy: 0.4064 - val_loss: 1.2634 - val_accuracy: 0.5838\n",
            "Epoch 2/75\n",
            "469/469 [==============================] - 1s 3ms/step - loss: 1.2397 - accuracy: 0.4917 - val_loss: 0.8902 - val_accuracy: 0.6108\n",
            "Epoch 3/75\n",
            "469/469 [==============================] - 1s 3ms/step - loss: 1.0968 - accuracy: 0.5335 - val_loss: 0.7804 - val_accuracy: 0.7233\n",
            "Epoch 4/75\n",
            "469/469 [==============================] - 1s 3ms/step - loss: 0.9062 - accuracy: 0.7029 - val_loss: 0.5409 - val_accuracy: 0.8739\n",
            "Epoch 5/75\n",
            "469/469 [==============================] - 1s 3ms/step - loss: 0.6883 - accuracy: 0.7652 - val_loss: 0.3891 - val_accuracy: 0.9236\n",
            "Epoch 6/75\n",
            "469/469 [==============================] - 1s 3ms/step - loss: 0.5751 - accuracy: 0.8054 - val_loss: 0.3146 - val_accuracy: 0.9465\n",
            "Epoch 7/75\n",
            "469/469 [==============================] - 1s 3ms/step - loss: 0.4789 - accuracy: 0.8509 - val_loss: 0.2843 - val_accuracy: 0.9476\n",
            "Epoch 8/75\n",
            "469/469 [==============================] - 1s 3ms/step - loss: 0.3997 - accuracy: 0.8844 - val_loss: 0.2228 - val_accuracy: 0.9592\n",
            "Epoch 9/75\n",
            "469/469 [==============================] - 1s 3ms/step - loss: 0.3387 - accuracy: 0.9108 - val_loss: 0.1954 - val_accuracy: 0.9601\n",
            "Epoch 10/75\n",
            "469/469 [==============================] - 1s 3ms/step - loss: 0.3071 - accuracy: 0.9183 - val_loss: 0.1808 - val_accuracy: 0.9619\n",
            "Epoch 11/75\n",
            "469/469 [==============================] - 1s 3ms/step - loss: 0.2863 - accuracy: 0.9247 - val_loss: 0.1635 - val_accuracy: 0.9648\n",
            "Epoch 12/75\n",
            "469/469 [==============================] - 1s 3ms/step - loss: 0.2543 - accuracy: 0.9338 - val_loss: 0.1599 - val_accuracy: 0.9636\n",
            "Epoch 13/75\n",
            "469/469 [==============================] - 1s 3ms/step - loss: 0.2326 - accuracy: 0.9375 - val_loss: 0.1706 - val_accuracy: 0.9622\n",
            "Epoch 14/75\n",
            "469/469 [==============================] - 1s 3ms/step - loss: 0.2162 - accuracy: 0.9396 - val_loss: 0.1576 - val_accuracy: 0.9661\n",
            "Epoch 15/75\n",
            "469/469 [==============================] - 1s 3ms/step - loss: 0.2050 - accuracy: 0.9434 - val_loss: 0.1592 - val_accuracy: 0.9669\n",
            "Epoch 16/75\n",
            "469/469 [==============================] - 1s 3ms/step - loss: 0.1936 - accuracy: 0.9467 - val_loss: 0.1469 - val_accuracy: 0.9680\n",
            "Epoch 17/75\n",
            "469/469 [==============================] - 1s 3ms/step - loss: 0.1866 - accuracy: 0.9472 - val_loss: 0.1675 - val_accuracy: 0.9643\n",
            "Epoch 18/75\n",
            "469/469 [==============================] - 1s 3ms/step - loss: 0.1886 - accuracy: 0.9473 - val_loss: 0.1566 - val_accuracy: 0.9655\n",
            "Epoch 19/75\n",
            "469/469 [==============================] - 1s 3ms/step - loss: 0.1791 - accuracy: 0.9495 - val_loss: 0.1492 - val_accuracy: 0.9684\n",
            "Epoch 20/75\n",
            "469/469 [==============================] - 1s 3ms/step - loss: 0.1746 - accuracy: 0.9495 - val_loss: 0.1623 - val_accuracy: 0.9665\n",
            "Epoch 21/75\n",
            "469/469 [==============================] - 1s 3ms/step - loss: 0.1700 - accuracy: 0.9513 - val_loss: 0.1639 - val_accuracy: 0.9659\n",
            "Epoch 22/75\n",
            "469/469 [==============================] - 1s 3ms/step - loss: 0.1652 - accuracy: 0.9523 - val_loss: 0.1601 - val_accuracy: 0.9663\n",
            "Epoch 23/75\n",
            "469/469 [==============================] - 1s 3ms/step - loss: 0.1651 - accuracy: 0.9519 - val_loss: 0.1635 - val_accuracy: 0.9652\n",
            "Epoch 24/75\n",
            "469/469 [==============================] - 1s 3ms/step - loss: 0.1574 - accuracy: 0.9541 - val_loss: 0.1591 - val_accuracy: 0.9690\n",
            "Epoch 25/75\n",
            "469/469 [==============================] - 1s 3ms/step - loss: 0.1557 - accuracy: 0.9543 - val_loss: 0.1658 - val_accuracy: 0.9675\n",
            "Epoch 26/75\n",
            "469/469 [==============================] - 1s 3ms/step - loss: 0.1511 - accuracy: 0.9565 - val_loss: 0.1737 - val_accuracy: 0.9657\n",
            "Epoch 27/75\n",
            "469/469 [==============================] - 1s 3ms/step - loss: 0.1502 - accuracy: 0.9569 - val_loss: 0.1686 - val_accuracy: 0.9666\n",
            "Epoch 28/75\n",
            "469/469 [==============================] - 1s 3ms/step - loss: 0.1465 - accuracy: 0.9579 - val_loss: 0.1562 - val_accuracy: 0.9696\n",
            "Epoch 29/75\n",
            "469/469 [==============================] - 1s 3ms/step - loss: 0.1472 - accuracy: 0.9576 - val_loss: 0.1663 - val_accuracy: 0.9682\n",
            "Epoch 30/75\n",
            "469/469 [==============================] - 1s 3ms/step - loss: 0.1477 - accuracy: 0.9573 - val_loss: 0.1658 - val_accuracy: 0.9672\n",
            "Epoch 31/75\n",
            "469/469 [==============================] - 1s 3ms/step - loss: 0.1410 - accuracy: 0.9598 - val_loss: 0.1731 - val_accuracy: 0.9661\n",
            "Epoch 32/75\n",
            "469/469 [==============================] - 1s 3ms/step - loss: 0.1438 - accuracy: 0.9584 - val_loss: 0.1678 - val_accuracy: 0.9671\n",
            "Epoch 33/75\n",
            "469/469 [==============================] - 1s 3ms/step - loss: 0.1449 - accuracy: 0.9592 - val_loss: 0.1658 - val_accuracy: 0.9685\n",
            "Epoch 34/75\n",
            "469/469 [==============================] - 1s 3ms/step - loss: 0.1356 - accuracy: 0.9614 - val_loss: 0.1631 - val_accuracy: 0.9689\n",
            "Epoch 35/75\n",
            "469/469 [==============================] - 1s 3ms/step - loss: 0.1346 - accuracy: 0.9613 - val_loss: 0.1811 - val_accuracy: 0.9653\n",
            "Epoch 36/75\n",
            "469/469 [==============================] - 1s 3ms/step - loss: 0.1371 - accuracy: 0.9612 - val_loss: 0.1623 - val_accuracy: 0.9685\n",
            "Epoch 37/75\n",
            "469/469 [==============================] - 1s 3ms/step - loss: 0.1321 - accuracy: 0.9619 - val_loss: 0.1704 - val_accuracy: 0.9670\n",
            "Epoch 38/75\n",
            "469/469 [==============================] - 1s 3ms/step - loss: 0.1292 - accuracy: 0.9631 - val_loss: 0.1718 - val_accuracy: 0.9666\n",
            "Epoch 39/75\n",
            "469/469 [==============================] - 1s 3ms/step - loss: 0.1254 - accuracy: 0.9642 - val_loss: 0.1733 - val_accuracy: 0.9668\n",
            "Epoch 40/75\n",
            "469/469 [==============================] - 1s 3ms/step - loss: 0.1288 - accuracy: 0.9624 - val_loss: 0.1668 - val_accuracy: 0.9680\n",
            "Epoch 41/75\n",
            "469/469 [==============================] - 1s 3ms/step - loss: 0.1242 - accuracy: 0.9643 - val_loss: 0.1717 - val_accuracy: 0.9661\n",
            "Epoch 42/75\n",
            "469/469 [==============================] - 1s 3ms/step - loss: 0.1248 - accuracy: 0.9637 - val_loss: 0.1718 - val_accuracy: 0.9676\n",
            "Epoch 43/75\n",
            "469/469 [==============================] - 1s 3ms/step - loss: 0.1228 - accuracy: 0.9646 - val_loss: 0.1831 - val_accuracy: 0.9673\n",
            "Epoch 44/75\n",
            "469/469 [==============================] - 1s 3ms/step - loss: 0.1221 - accuracy: 0.9649 - val_loss: 0.1853 - val_accuracy: 0.9645\n",
            "Epoch 45/75\n",
            "469/469 [==============================] - 1s 3ms/step - loss: 0.1204 - accuracy: 0.9654 - val_loss: 0.1926 - val_accuracy: 0.9658\n",
            "Epoch 46/75\n",
            "469/469 [==============================] - 1s 3ms/step - loss: 0.1181 - accuracy: 0.9666 - val_loss: 0.1759 - val_accuracy: 0.9672\n",
            "Epoch 47/75\n",
            "469/469 [==============================] - 1s 3ms/step - loss: 0.1175 - accuracy: 0.9664 - val_loss: 0.1891 - val_accuracy: 0.9668\n",
            "Epoch 48/75\n",
            "469/469 [==============================] - 1s 3ms/step - loss: 0.1167 - accuracy: 0.9669 - val_loss: 0.1880 - val_accuracy: 0.9663\n",
            "Epoch 49/75\n",
            "469/469 [==============================] - 1s 3ms/step - loss: 0.1136 - accuracy: 0.9688 - val_loss: 0.1866 - val_accuracy: 0.9654\n",
            "Epoch 50/75\n",
            "469/469 [==============================] - 1s 3ms/step - loss: 0.1157 - accuracy: 0.9672 - val_loss: 0.1918 - val_accuracy: 0.9657\n",
            "Epoch 51/75\n",
            "469/469 [==============================] - 1s 3ms/step - loss: 0.1120 - accuracy: 0.9691 - val_loss: 0.1847 - val_accuracy: 0.9672\n",
            "Epoch 52/75\n",
            "469/469 [==============================] - 1s 3ms/step - loss: 0.1114 - accuracy: 0.9688 - val_loss: 0.1807 - val_accuracy: 0.9677\n",
            "Epoch 53/75\n",
            "469/469 [==============================] - 1s 3ms/step - loss: 0.1095 - accuracy: 0.9699 - val_loss: 0.1788 - val_accuracy: 0.9688\n",
            "Epoch 54/75\n",
            "469/469 [==============================] - 1s 3ms/step - loss: 0.1119 - accuracy: 0.9697 - val_loss: 0.1913 - val_accuracy: 0.9651\n",
            "Epoch 55/75\n",
            "469/469 [==============================] - 1s 3ms/step - loss: 0.1085 - accuracy: 0.9696 - val_loss: 0.1907 - val_accuracy: 0.9660\n",
            "Epoch 56/75\n",
            "469/469 [==============================] - 1s 3ms/step - loss: 0.1082 - accuracy: 0.9701 - val_loss: 0.1791 - val_accuracy: 0.9678\n",
            "Epoch 57/75\n",
            "469/469 [==============================] - 1s 3ms/step - loss: 0.1089 - accuracy: 0.9700 - val_loss: 0.2053 - val_accuracy: 0.9669\n",
            "Epoch 58/75\n",
            "469/469 [==============================] - 1s 3ms/step - loss: 0.1057 - accuracy: 0.9709 - val_loss: 0.1915 - val_accuracy: 0.9677\n",
            "Epoch 59/75\n",
            "469/469 [==============================] - 1s 3ms/step - loss: 0.1069 - accuracy: 0.9705 - val_loss: 0.1900 - val_accuracy: 0.9658\n",
            "Epoch 60/75\n",
            "469/469 [==============================] - 1s 3ms/step - loss: 0.1083 - accuracy: 0.9706 - val_loss: 0.1908 - val_accuracy: 0.9683\n",
            "Epoch 61/75\n",
            "469/469 [==============================] - 1s 3ms/step - loss: 0.1044 - accuracy: 0.9708 - val_loss: 0.1876 - val_accuracy: 0.9679\n",
            "Epoch 62/75\n",
            "469/469 [==============================] - 1s 3ms/step - loss: 0.1035 - accuracy: 0.9719 - val_loss: 0.1961 - val_accuracy: 0.9675\n",
            "Epoch 63/75\n",
            "469/469 [==============================] - 1s 3ms/step - loss: 0.0997 - accuracy: 0.9731 - val_loss: 0.1941 - val_accuracy: 0.9655\n",
            "Epoch 64/75\n",
            "469/469 [==============================] - 1s 3ms/step - loss: 0.1043 - accuracy: 0.9715 - val_loss: 0.1948 - val_accuracy: 0.9668\n",
            "Epoch 65/75\n",
            "469/469 [==============================] - 1s 3ms/step - loss: 0.1034 - accuracy: 0.9711 - val_loss: 0.1877 - val_accuracy: 0.9684\n",
            "Epoch 66/75\n",
            "469/469 [==============================] - 1s 3ms/step - loss: 0.1030 - accuracy: 0.9721 - val_loss: 0.1986 - val_accuracy: 0.9662\n",
            "Epoch 67/75\n",
            "469/469 [==============================] - 1s 3ms/step - loss: 0.1027 - accuracy: 0.9719 - val_loss: 0.2020 - val_accuracy: 0.9665\n",
            "Epoch 68/75\n",
            "469/469 [==============================] - 1s 3ms/step - loss: 0.0985 - accuracy: 0.9732 - val_loss: 0.2193 - val_accuracy: 0.9640\n",
            "Epoch 69/75\n",
            "469/469 [==============================] - 1s 3ms/step - loss: 0.0978 - accuracy: 0.9732 - val_loss: 0.1996 - val_accuracy: 0.9677\n",
            "Epoch 70/75\n",
            "469/469 [==============================] - 1s 3ms/step - loss: 0.0952 - accuracy: 0.9737 - val_loss: 0.2001 - val_accuracy: 0.9647\n",
            "Epoch 71/75\n",
            "469/469 [==============================] - 1s 3ms/step - loss: 0.0970 - accuracy: 0.9733 - val_loss: 0.2056 - val_accuracy: 0.9663\n",
            "Epoch 72/75\n",
            "469/469 [==============================] - 1s 3ms/step - loss: 0.0975 - accuracy: 0.9733 - val_loss: 0.2112 - val_accuracy: 0.9662\n",
            "Epoch 73/75\n",
            "469/469 [==============================] - 1s 3ms/step - loss: 0.0943 - accuracy: 0.9746 - val_loss: 0.1977 - val_accuracy: 0.9662\n",
            "Epoch 74/75\n",
            "469/469 [==============================] - 1s 3ms/step - loss: 0.0928 - accuracy: 0.9750 - val_loss: 0.1986 - val_accuracy: 0.9658\n",
            "Epoch 75/75\n",
            "469/469 [==============================] - 1s 3ms/step - loss: 0.0956 - accuracy: 0.9738 - val_loss: 0.2035 - val_accuracy: 0.9657\n"
          ]
        }
      ]
    },
    {
      "cell_type": "code",
      "metadata": {
        "colab": {
          "base_uri": "https://localhost:8080/",
          "height": 406
        },
        "id": "rZEOc2uyp3Nq",
        "outputId": "a5a2613d-6ba0-4b0e-90cd-de6f2b479b30"
      },
      "source": [
        "#PLot for the model with constant learning rate\n",
        "# Plot the loss function\n",
        "fig, ax = plt.subplots(1, 1, figsize=(10,6))\n",
        "ax.plot(np.sqrt(exp_history.history['loss']), 'r', label='train')\n",
        "ax.plot(np.sqrt(exp_history.history['val_loss']), 'b' ,label='val')\n",
        "ax.set_xlabel(r'Epoch', fontsize=20)\n",
        "ax.set_ylabel(r'Loss', fontsize=20)\n",
        "ax.legend()\n",
        "ax.tick_params(labelsize=20)"
      ],
      "execution_count": null,
      "outputs": [
        {
          "output_type": "display_data",
          "data": {
            "image/png": "[encoded data removed]",
            "text/plain": [
              "<Figure size 720x432 with 1 Axes>"
            ]
          },
          "metadata": {
            "needs_background": "light"
          }
        }
      ]
    },
    {
      "cell_type": "markdown",
      "metadata": {
        "id": "qJZVgyMZyYfT"
      },
      "source": [
        "**What is the value of lr when loss shoots up?**\n",
        "\n",
        "-> At 0.1"
      ]
    },
    {
      "cell_type": "code",
      "metadata": {
        "id": "5kBWZBINyVYl"
      },
      "source": [
        ""
      ],
      "execution_count": null,
      "outputs": []
    }
  ]
}