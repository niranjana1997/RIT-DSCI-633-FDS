{
  "nbformat": 4,
  "nbformat_minor": 0,
  "metadata": {
    "kernelspec": {
      "display_name": "Python 3",
      "language": "python",
      "name": "python3"
    },
    "language_info": {
      "codemirror_mode": {
        "name": "ipython",
        "version": 3
      },
      "file_extension": ".py",
      "mimetype": "text/x-python",
      "name": "python",
      "nbconvert_exporter": "python",
      "pygments_lexer": "ipython3",
      "version": "3.7.4"
    },
    "colab": {
      "name": "Assignment_5.ipynb",
      "provenance": [],
      "collapsed_sections": []
    }
  },
  "cells": [
    {
      "cell_type": "markdown",
      "metadata": {
        "id": "Y_SGHTUyxHGm"
      },
      "source": [
        "**Importing libraries**"
      ]
    },
    {
      "cell_type": "code",
      "metadata": {
        "id": "gFsbbe-xaymb"
      },
      "source": [
        "import pandas as pd\n",
        "import numpy as np\n",
        "import matplotlib.pyplot as plt\n",
        "from keras.utils import np_utils"
      ],
      "execution_count": 173,
      "outputs": []
    },
    {
      "cell_type": "markdown",
      "metadata": {
        "id": "JbHwRWEMuzaf"
      },
      "source": [
        "**Loading data**"
      ]
    },
    {
      "cell_type": "code",
      "metadata": {
        "id": "HixgeNryaymd"
      },
      "source": [
        "from keras.datasets import mnist\n",
        "data = mnist.load_data()"
      ],
      "execution_count": 174,
      "outputs": []
    },
    {
      "cell_type": "markdown",
      "metadata": {
        "id": "OVw1GxZQw7hn"
      },
      "source": [
        "**Dividing Train/Test data**"
      ]
    },
    {
      "cell_type": "code",
      "metadata": {
        "colab": {
          "base_uri": "https://localhost:8080/"
        },
        "id": "yZTGZx8_aymd",
        "outputId": "d4812b4d-2fa2-4587-b3bf-b46316bad696"
      },
      "source": [
        "(X_train, y_train), (X_test, y_test) = data\n",
        "X_train[0].shape\n",
        "X_train.shape"
      ],
      "execution_count": 175,
      "outputs": [
        {
          "output_type": "execute_result",
          "data": {
            "text/plain": [
              "(60000, 28, 28)"
            ]
          },
          "metadata": {},
          "execution_count": 175
        }
      ]
    },
    {
      "cell_type": "markdown",
      "metadata": {
        "id": "lZ-r8hBWzFqx"
      },
      "source": [
        "**Plotting values in X_train**"
      ]
    },
    {
      "cell_type": "code",
      "metadata": {
        "colab": {
          "base_uri": "https://localhost:8080/",
          "height": 233
        },
        "id": "Km8E3FQUaymf",
        "outputId": "7116c908-f06d-445c-8400-1f0c6aba7f43"
      },
      "source": [
        "fig = plt.figure()\n",
        "for i in range(4):\n",
        "  plt.subplot(2,4,i+1)\n",
        "  plt.tight_layout()\n",
        "  plt.imshow(X_train[i], cmap='gray', interpolation='none')\n",
        "  plt.title(\"Digit: {}\".format(y_train[i]))\n",
        "  plt.xticks([])\n",
        "  plt.yticks([])\n",
        "fig"
      ],
      "execution_count": 176,
      "outputs": [
        {
          "output_type": "execute_result",
          "data": {
            "image/png": "[encoded data removed]",
            "text/plain": [
              "<Figure size 432x288 with 4 Axes>"
            ]
          },
          "metadata": {},
          "execution_count": 176
        },
        {
          "output_type": "display_data",
          "data": {
            "image/png": "[encoded data removed]",
            "text/plain": [
              "<Figure size 432x288 with 4 Axes>"
            ]
          },
          "metadata": {}
        }
      ]
    },
    {
      "cell_type": "markdown",
      "metadata": {
        "id": "FxiInVBVzoXK"
      },
      "source": [
        "Reshaping and normalizing data"
      ]
    },
    {
      "cell_type": "code",
      "metadata": {
        "colab": {
          "base_uri": "https://localhost:8080/"
        },
        "id": "OwwYmsfKztvM",
        "outputId": "da1d1e36-3894-454d-98bc-9fd7c8e5160d"
      },
      "source": [
        "# let's print the shape before we reshape and normalize\n",
        "print(\"X_train shape\", X_train.shape)\n",
        "print(\"y_train shape\", y_train.shape)\n",
        "print(\"X_test shape\", X_test.shape)\n",
        "print(\"y_test shape\", y_test.shape)\n",
        "\n",
        "# building the input vector from the 28x28 pixels\n",
        "X_train = X_train.reshape(60000, 784)\n",
        "X_test = X_test.reshape(10000, 784)\n",
        "X_train = X_train.astype('float32')\n",
        "X_test = X_test.astype('float32')\n",
        "\n",
        "# normalizing the data to help with the training\n",
        "X_train /= 255\n",
        "X_test /= 255\n",
        "\n",
        "# print the final input shape ready for training\n",
        "print(\"Train matrix shape\", X_train.shape)\n",
        "print(\"Test matrix shape\", X_test.shape)\n",
        "\n",
        "# one-hot encoding using keras' numpy-related utilities\n",
        "n_classes = 10\n",
        "print(\"Shape before one-hot encoding: \", y_train.shape)\n",
        "Y_train = np_utils.to_categorical(y_train, n_classes)\n",
        "Y_test = np_utils.to_categorical(y_test, n_classes)\n",
        "print(\"Shape after one-hot encoding: \", Y_train.shape)"
      ],
      "execution_count": 177,
      "outputs": [
        {
          "output_type": "stream",
          "name": "stdout",
          "text": [
            "X_train shape (60000, 28, 28)\n",
            "y_train shape (60000,)\n",
            "X_test shape (10000, 28, 28)\n",
            "y_test shape (10000,)\n",
            "Train matrix shape (60000, 784)\n",
            "Test matrix shape (10000, 784)\n",
            "Shape before one-hot encoding:  (60000,)\n",
            "Shape after one-hot encoding:  (60000, 10)\n"
          ]
        }
      ]
    },
    {
      "cell_type": "markdown",
      "metadata": {
        "id": "fsaZmsN3-9vx"
      },
      "source": [
        "**Building a dense network**"
      ]
    },
    {
      "cell_type": "code",
      "metadata": {
        "id": "4M62WvTjcA6s"
      },
      "source": [
        "# Importing the required Keras modules containing model and layers\n",
        "from tensorflow.keras.models import Sequential\n",
        "from tensorflow.keras.layers import Dense, Flatten, Dropout\n",
        "import tensorflow as tf\n",
        "from keras.callbacks import LearningRateScheduler\n",
        "from keras.callbacks import EarlyStopping\n"
      ],
      "execution_count": 178,
      "outputs": []
    },
    {
      "cell_type": "code",
      "metadata": {
        "id": "JSFHwxdFhamy"
      },
      "source": [
        "epochs = 75\n",
        "learning_rate = 0.002\n",
        "decay_rate = learning_rate / epochs\n",
        "input_dim = X_train.shape[1]\n",
        "\n",
        "num_classes = 10\n",
        "\n"
      ],
      "execution_count": 179,
      "outputs": []
    },
    {
      "cell_type": "code",
      "metadata": {
        "id": "Z3eb39sOcZPe"
      },
      "source": [
        "def dense_model_adam():\n",
        "  # Creating a Sequential Model and adding the layers\n",
        "  model = Sequential()\n",
        "  model.add(Dense(40, activation=tf.nn.relu))\n",
        "  model.add(Flatten())\n",
        "  model.add(Dense(20,activation=tf.nn.softmax))\n",
        "  model.add(Dropout(0.2))\n",
        "  model.add(Dense(10,activation=tf.nn.sigmoid))\n",
        "\n",
        "  model.add(Dense(num_classes,activation=tf.nn.softmax))\n",
        "\n",
        "  opt = tf.keras.optimizers.RMSprop(learning_rate=0.002)\n",
        "\n",
        "  model.compile(loss='categorical_crossentropy', metrics=['accuracy'], optimizer='adam')\n",
        "\n",
        "  return model"
      ],
      "execution_count": 180,
      "outputs": []
    },
    {
      "cell_type": "code",
      "metadata": {
        "id": "CPxVPNdX0gKR"
      },
      "source": [
        "def exp_learning(epochs):\n",
        "  lrate = learning_rate * np.exp(-decay_rate*epochs)\n",
        "  return lrate"
      ],
      "execution_count": 181,
      "outputs": []
    },
    {
      "cell_type": "code",
      "metadata": {
        "id": "uW_CPojIbJZO"
      },
      "source": [
        "\n",
        "exp_model = dense_model_adam()\n",
        "lr_rate = LearningRateScheduler(exp_learning)\n",
        "\n",
        "\n",
        "es = EarlyStopping(monitor='val_loss', patience=25)\n",
        "\n",
        "checkpoint_filepath = 'weights-improvement_rms.hdf5'\n",
        "\n",
        "model_checkpoint = tf.keras.callbacks.ModelCheckpoint(\n",
        "    filepath=checkpoint_filepath,\n",
        "    save_weights_only=True,\n",
        "    monitor='val_accuracy',\n",
        "    mode='max',\n",
        "    save_best_only=True)\n",
        "\n",
        "callbacks_list = [lr_rate, es]"
      ],
      "execution_count": 182,
      "outputs": []
    },
    {
      "cell_type": "code",
      "metadata": {
        "colab": {
          "base_uri": "https://localhost:8080/"
        },
        "id": "u7Gcz44neaqd",
        "outputId": "5604a7a5-7bb9-4a20-f1f5-890c1a36efa6"
      },
      "source": [
        "exp_history = exp_model.fit(X_train, Y_train,\n",
        "                        batch_size=128,\n",
        "                        epochs=epochs,\n",
        "                        callbacks=callbacks_list,\n",
        "                        validation_data=(X_test, Y_test))"
      ],
      "execution_count": 190,
      "outputs": [
        {
          "output_type": "stream",
          "name": "stdout",
          "text": [
            "Epoch 1/75\n",
            "469/469 [==============================] - 2s 3ms/step - loss: 1.9273 - accuracy: 0.3389 - val_loss: 1.4691 - val_accuracy: 0.4605\n",
            "Epoch 2/75\n",
            "469/469 [==============================] - 1s 3ms/step - loss: 1.3693 - accuracy: 0.4548 - val_loss: 0.9971 - val_accuracy: 0.5954\n",
            "Epoch 3/75\n",
            "469/469 [==============================] - 1s 3ms/step - loss: 1.1537 - accuracy: 0.5011 - val_loss: 0.8250 - val_accuracy: 0.6344\n",
            "Epoch 4/75\n",
            "469/469 [==============================] - 1s 3ms/step - loss: 1.0702 - accuracy: 0.5324 - val_loss: 0.7465 - val_accuracy: 0.6963\n",
            "Epoch 5/75\n",
            "469/469 [==============================] - 1s 3ms/step - loss: 0.9949 - accuracy: 0.5841 - val_loss: 0.6624 - val_accuracy: 0.7599\n",
            "Epoch 6/75\n",
            "469/469 [==============================] - 1s 3ms/step - loss: 0.8720 - accuracy: 0.6384 - val_loss: 0.5599 - val_accuracy: 0.7739\n",
            "Epoch 7/75\n",
            "469/469 [==============================] - 1s 3ms/step - loss: 0.7598 - accuracy: 0.6679 - val_loss: 0.4988 - val_accuracy: 0.7691\n",
            "Epoch 8/75\n",
            "469/469 [==============================] - 1s 3ms/step - loss: 0.6987 - accuracy: 0.7010 - val_loss: 0.4718 - val_accuracy: 0.8131\n",
            "Epoch 9/75\n",
            "469/469 [==============================] - 1s 3ms/step - loss: 0.6392 - accuracy: 0.7540 - val_loss: 0.4078 - val_accuracy: 0.8713\n",
            "Epoch 10/75\n",
            "469/469 [==============================] - 1s 3ms/step - loss: 0.5687 - accuracy: 0.7839 - val_loss: 0.3831 - val_accuracy: 0.8662\n",
            "Epoch 11/75\n",
            "469/469 [==============================] - 1s 3ms/step - loss: 0.5013 - accuracy: 0.8181 - val_loss: 0.3008 - val_accuracy: 0.9500\n",
            "Epoch 12/75\n",
            "469/469 [==============================] - 1s 3ms/step - loss: 0.4048 - accuracy: 0.8684 - val_loss: 0.2075 - val_accuracy: 0.9598\n",
            "Epoch 13/75\n",
            "469/469 [==============================] - 1s 3ms/step - loss: 0.3548 - accuracy: 0.8757 - val_loss: 0.1799 - val_accuracy: 0.9610\n",
            "Epoch 14/75\n",
            "469/469 [==============================] - 1s 3ms/step - loss: 0.3387 - accuracy: 0.8823 - val_loss: 0.1742 - val_accuracy: 0.9622\n",
            "Epoch 15/75\n",
            "469/469 [==============================] - 1s 3ms/step - loss: 0.3092 - accuracy: 0.9039 - val_loss: 0.1714 - val_accuracy: 0.9595\n",
            "Epoch 16/75\n",
            "469/469 [==============================] - 1s 3ms/step - loss: 0.2810 - accuracy: 0.9200 - val_loss: 0.1818 - val_accuracy: 0.9559\n",
            "Epoch 17/75\n",
            "469/469 [==============================] - 1s 3ms/step - loss: 0.2562 - accuracy: 0.9304 - val_loss: 0.1654 - val_accuracy: 0.9629\n",
            "Epoch 18/75\n",
            "469/469 [==============================] - 1s 3ms/step - loss: 0.2437 - accuracy: 0.9321 - val_loss: 0.1713 - val_accuracy: 0.9618\n",
            "Epoch 19/75\n",
            "469/469 [==============================] - 1s 3ms/step - loss: 0.2311 - accuracy: 0.9359 - val_loss: 0.1577 - val_accuracy: 0.9646\n",
            "Epoch 20/75\n",
            "469/469 [==============================] - 1s 3ms/step - loss: 0.2221 - accuracy: 0.9383 - val_loss: 0.1512 - val_accuracy: 0.9658\n",
            "Epoch 21/75\n",
            "469/469 [==============================] - 1s 3ms/step - loss: 0.2064 - accuracy: 0.9419 - val_loss: 0.1493 - val_accuracy: 0.9656\n",
            "Epoch 22/75\n",
            "469/469 [==============================] - 1s 3ms/step - loss: 0.1999 - accuracy: 0.9425 - val_loss: 0.1560 - val_accuracy: 0.9660\n",
            "Epoch 23/75\n",
            "469/469 [==============================] - 1s 3ms/step - loss: 0.1799 - accuracy: 0.9495 - val_loss: 0.1546 - val_accuracy: 0.9667\n",
            "Epoch 24/75\n",
            "469/469 [==============================] - 1s 3ms/step - loss: 0.1750 - accuracy: 0.9518 - val_loss: 0.1493 - val_accuracy: 0.9676\n",
            "Epoch 25/75\n",
            "469/469 [==============================] - 1s 3ms/step - loss: 0.1673 - accuracy: 0.9539 - val_loss: 0.1537 - val_accuracy: 0.9673\n",
            "Epoch 26/75\n",
            "469/469 [==============================] - 1s 3ms/step - loss: 0.1596 - accuracy: 0.9556 - val_loss: 0.1479 - val_accuracy: 0.9688\n",
            "Epoch 27/75\n",
            "469/469 [==============================] - 1s 3ms/step - loss: 0.1553 - accuracy: 0.9581 - val_loss: 0.1556 - val_accuracy: 0.9654\n",
            "Epoch 28/75\n",
            "469/469 [==============================] - 1s 3ms/step - loss: 0.1511 - accuracy: 0.9593 - val_loss: 0.1498 - val_accuracy: 0.9680\n",
            "Epoch 29/75\n",
            "469/469 [==============================] - 1s 3ms/step - loss: 0.1469 - accuracy: 0.9588 - val_loss: 0.1531 - val_accuracy: 0.9669\n",
            "Epoch 30/75\n",
            "469/469 [==============================] - 1s 3ms/step - loss: 0.1440 - accuracy: 0.9609 - val_loss: 0.1474 - val_accuracy: 0.9688\n",
            "Epoch 31/75\n",
            "469/469 [==============================] - 1s 3ms/step - loss: 0.1392 - accuracy: 0.9617 - val_loss: 0.1530 - val_accuracy: 0.9666\n",
            "Epoch 32/75\n",
            "469/469 [==============================] - 1s 3ms/step - loss: 0.1322 - accuracy: 0.9642 - val_loss: 0.1569 - val_accuracy: 0.9661\n",
            "Epoch 33/75\n",
            "469/469 [==============================] - 1s 3ms/step - loss: 0.1285 - accuracy: 0.9652 - val_loss: 0.1582 - val_accuracy: 0.9676\n",
            "Epoch 34/75\n",
            "469/469 [==============================] - 1s 3ms/step - loss: 0.1247 - accuracy: 0.9663 - val_loss: 0.1584 - val_accuracy: 0.9662\n",
            "Epoch 35/75\n",
            "469/469 [==============================] - 1s 3ms/step - loss: 0.1216 - accuracy: 0.9658 - val_loss: 0.1534 - val_accuracy: 0.9684\n",
            "Epoch 36/75\n",
            "469/469 [==============================] - 1s 3ms/step - loss: 0.1242 - accuracy: 0.9664 - val_loss: 0.1502 - val_accuracy: 0.9684\n",
            "Epoch 37/75\n",
            "469/469 [==============================] - 1s 3ms/step - loss: 0.1182 - accuracy: 0.9669 - val_loss: 0.1717 - val_accuracy: 0.9654\n",
            "Epoch 38/75\n",
            "469/469 [==============================] - 1s 3ms/step - loss: 0.1157 - accuracy: 0.9675 - val_loss: 0.1691 - val_accuracy: 0.9662\n",
            "Epoch 39/75\n",
            "469/469 [==============================] - 1s 3ms/step - loss: 0.1147 - accuracy: 0.9679 - val_loss: 0.1649 - val_accuracy: 0.9671\n",
            "Epoch 40/75\n",
            "469/469 [==============================] - 1s 3ms/step - loss: 0.1129 - accuracy: 0.9694 - val_loss: 0.1765 - val_accuracy: 0.9645\n",
            "Epoch 41/75\n",
            "469/469 [==============================] - 1s 3ms/step - loss: 0.1112 - accuracy: 0.9692 - val_loss: 0.1622 - val_accuracy: 0.9661\n",
            "Epoch 42/75\n",
            "469/469 [==============================] - 1s 3ms/step - loss: 0.1125 - accuracy: 0.9686 - val_loss: 0.1663 - val_accuracy: 0.9669\n",
            "Epoch 43/75\n",
            "469/469 [==============================] - 1s 3ms/step - loss: 0.1079 - accuracy: 0.9705 - val_loss: 0.1604 - val_accuracy: 0.9672\n",
            "Epoch 44/75\n",
            "469/469 [==============================] - 1s 3ms/step - loss: 0.1077 - accuracy: 0.9711 - val_loss: 0.1649 - val_accuracy: 0.9651\n",
            "Epoch 45/75\n",
            "469/469 [==============================] - 1s 3ms/step - loss: 0.1052 - accuracy: 0.9713 - val_loss: 0.1683 - val_accuracy: 0.9666\n",
            "Epoch 46/75\n",
            "469/469 [==============================] - 1s 3ms/step - loss: 0.1010 - accuracy: 0.9729 - val_loss: 0.1656 - val_accuracy: 0.9660\n",
            "Epoch 47/75\n",
            "469/469 [==============================] - 1s 3ms/step - loss: 0.1018 - accuracy: 0.9722 - val_loss: 0.1753 - val_accuracy: 0.9649\n",
            "Epoch 48/75\n",
            "469/469 [==============================] - 1s 3ms/step - loss: 0.0984 - accuracy: 0.9727 - val_loss: 0.1722 - val_accuracy: 0.9645\n",
            "Epoch 49/75\n",
            "469/469 [==============================] - 1s 3ms/step - loss: 0.0997 - accuracy: 0.9728 - val_loss: 0.1670 - val_accuracy: 0.9670\n",
            "Epoch 50/75\n",
            "469/469 [==============================] - 1s 3ms/step - loss: 0.0935 - accuracy: 0.9744 - val_loss: 0.1718 - val_accuracy: 0.9658\n"
          ]
        }
      ]
    },
    {
      "cell_type": "markdown",
      "metadata": {
        "id": "RhfYfM7d5noE"
      },
      "source": [
        "Accuracy is approximately 0.97 when the model is trained over the training data and receives around 0.96 validation accuracy"
      ]
    },
    {
      "cell_type": "code",
      "metadata": {
        "colab": {
          "base_uri": "https://localhost:8080/",
          "height": 409
        },
        "id": "rZEOc2uyp3Nq",
        "outputId": "42c2ac69-f1c2-42f3-f333-002a105f83a8"
      },
      "source": [
        "#PLot for the model with constant learning rate\n",
        "# Plot the loss function\n",
        "fig, ax = plt.subplots(1, 1, figsize=(10,6))\n",
        "ax.plot(np.sqrt(exp_history.history['loss']), 'r', label='train')\n",
        "ax.plot(np.sqrt(exp_history.history['val_loss']), 'b' ,label='val')\n",
        "ax.set_xlabel(r'Epoch', fontsize=20)\n",
        "ax.set_ylabel(r'Loss', fontsize=20)\n",
        "ax.legend()\n",
        "ax.tick_params(labelsize=20)"
      ],
      "execution_count": 183,
      "outputs": [
        {
          "output_type": "display_data",
          "data": {
            "image/png": "[encoded data removed]",
            "text/plain": [
              "<Figure size 720x432 with 1 Axes>"
            ]
          },
          "metadata": {
            "needs_background": "light"
          }
        }
      ]
    },
    {
      "cell_type": "markdown",
      "metadata": {
        "id": "qJZVgyMZyYfT"
      },
      "source": [
        "**What is the value of lr when loss shoots up?**\n",
        "\n",
        " At 0.1"
      ]
    },
    {
      "cell_type": "markdown",
      "metadata": {
        "id": "VL0MYXbQ3qVa"
      },
      "source": [
        "# **Using RMSProp Optimizer**"
      ]
    },
    {
      "cell_type": "code",
      "metadata": {
        "id": "5kBWZBINyVYl"
      },
      "source": [
        "def dense_model_rms():\n",
        "  # Creating a Sequential Model and adding the layers\n",
        "  model = Sequential()\n",
        "  model.add(Dense(40, activation=tf.nn.relu))\n",
        "  model.add(Flatten())\n",
        "  model.add(Dense(20,activation=tf.nn.softmax))\n",
        "  model.add(Dropout(0.2))\n",
        "  model.add(Dense(10,activation=tf.nn.sigmoid))\n",
        "\n",
        "  model.add(Dense(num_classes,activation=tf.nn.softmax))\n",
        "\n",
        "  rms_opt = tf.keras.optimizers.RMSprop(learning_rate=0.002)\n",
        "\n",
        "  model.compile(loss='categorical_crossentropy', metrics=['accuracy'], optimizer=rms_opt)\n",
        "\n",
        "  return model"
      ],
      "execution_count": 184,
      "outputs": []
    },
    {
      "cell_type": "code",
      "metadata": {
        "id": "F8IWZlKq0rjc"
      },
      "source": [
        "\n",
        "\n",
        "exp_model = dense_model_rms()\n",
        "lr_rate = LearningRateScheduler(exp_learning)\n",
        "\n",
        "\n",
        "es = EarlyStopping(monitor='val_loss', patience=25)\n",
        "\n",
        "checkpoint_filepath = 'weights-improvement_rms.hdf5'\n",
        "\n",
        "model_checkpoint = tf.keras.callbacks.ModelCheckpoint(\n",
        "    filepath=checkpoint_filepath,\n",
        "    save_weights_only=True,\n",
        "    monitor='val_accuracy',\n",
        "    mode='max',\n",
        "    save_best_only=True)\n",
        "\n",
        "callbacks_list = [lr_rate,es]"
      ],
      "execution_count": 185,
      "outputs": []
    },
    {
      "cell_type": "code",
      "metadata": {
        "colab": {
          "base_uri": "https://localhost:8080/"
        },
        "id": "wODQM9X_1m1N",
        "outputId": "ccbdb896-ac99-4376-cc6e-1315d241c949"
      },
      "source": [
        "exp_history = exp_model.fit(X_train, Y_train,\n",
        "                        batch_size=128,\n",
        "                        epochs=epochs,\n",
        "                        callbacks=callbacks_list,\n",
        "                        verbose=1,\n",
        "                        validation_data=(X_test, Y_test))"
      ],
      "execution_count": 186,
      "outputs": [
        {
          "output_type": "stream",
          "name": "stdout",
          "text": [
            "Epoch 1/75\n",
            "469/469 [==============================] - 2s 3ms/step - loss: 1.8931 - accuracy: 0.4210 - val_loss: 1.3640 - val_accuracy: 0.5627\n",
            "Epoch 2/75\n",
            "469/469 [==============================] - 1s 3ms/step - loss: 1.2683 - accuracy: 0.4765 - val_loss: 0.9201 - val_accuracy: 0.5803\n",
            "Epoch 3/75\n",
            "469/469 [==============================] - 1s 3ms/step - loss: 1.1252 - accuracy: 0.4907 - val_loss: 0.8149 - val_accuracy: 0.6092\n",
            "Epoch 4/75\n",
            "469/469 [==============================] - 1s 3ms/step - loss: 1.0524 - accuracy: 0.5147 - val_loss: 0.7736 - val_accuracy: 0.6221\n",
            "Epoch 5/75\n",
            "469/469 [==============================] - 1s 3ms/step - loss: 0.9464 - accuracy: 0.6388 - val_loss: 0.6432 - val_accuracy: 0.8254\n",
            "Epoch 6/75\n",
            "469/469 [==============================] - 1s 3ms/step - loss: 0.7670 - accuracy: 0.7369 - val_loss: 0.4828 - val_accuracy: 0.8907\n",
            "Epoch 7/75\n",
            "469/469 [==============================] - 1s 3ms/step - loss: 0.6048 - accuracy: 0.8139 - val_loss: 0.3397 - val_accuracy: 0.9496\n",
            "Epoch 8/75\n",
            "469/469 [==============================] - 1s 3ms/step - loss: 0.5035 - accuracy: 0.8364 - val_loss: 0.2632 - val_accuracy: 0.9542\n",
            "Epoch 9/75\n",
            "469/469 [==============================] - 1s 3ms/step - loss: 0.4451 - accuracy: 0.8576 - val_loss: 0.2393 - val_accuracy: 0.9531\n",
            "Epoch 10/75\n",
            "469/469 [==============================] - 1s 3ms/step - loss: 0.4058 - accuracy: 0.8763 - val_loss: 0.2142 - val_accuracy: 0.9564\n",
            "Epoch 11/75\n",
            "469/469 [==============================] - 1s 3ms/step - loss: 0.3722 - accuracy: 0.8921 - val_loss: 0.2017 - val_accuracy: 0.9584\n",
            "Epoch 12/75\n",
            "469/469 [==============================] - 1s 3ms/step - loss: 0.3448 - accuracy: 0.9002 - val_loss: 0.1839 - val_accuracy: 0.9618\n",
            "Epoch 13/75\n",
            "469/469 [==============================] - 1s 3ms/step - loss: 0.3308 - accuracy: 0.9057 - val_loss: 0.1957 - val_accuracy: 0.9601\n",
            "Epoch 14/75\n",
            "469/469 [==============================] - 1s 3ms/step - loss: 0.3069 - accuracy: 0.9170 - val_loss: 0.1916 - val_accuracy: 0.9610\n",
            "Epoch 15/75\n",
            "469/469 [==============================] - 1s 3ms/step - loss: 0.2779 - accuracy: 0.9280 - val_loss: 0.1862 - val_accuracy: 0.9623\n",
            "Epoch 16/75\n",
            "469/469 [==============================] - 1s 3ms/step - loss: 0.2512 - accuracy: 0.9343 - val_loss: 0.1774 - val_accuracy: 0.9618\n",
            "Epoch 17/75\n",
            "469/469 [==============================] - 1s 3ms/step - loss: 0.2354 - accuracy: 0.9364 - val_loss: 0.1667 - val_accuracy: 0.9626\n",
            "Epoch 18/75\n",
            "469/469 [==============================] - 1s 3ms/step - loss: 0.2230 - accuracy: 0.9404 - val_loss: 0.1696 - val_accuracy: 0.9644\n",
            "Epoch 19/75\n",
            "469/469 [==============================] - 1s 3ms/step - loss: 0.2165 - accuracy: 0.9407 - val_loss: 0.1726 - val_accuracy: 0.9629\n",
            "Epoch 20/75\n",
            "469/469 [==============================] - 1s 3ms/step - loss: 0.2071 - accuracy: 0.9434 - val_loss: 0.1769 - val_accuracy: 0.9621\n",
            "Epoch 21/75\n",
            "469/469 [==============================] - 1s 3ms/step - loss: 0.2022 - accuracy: 0.9442 - val_loss: 0.1730 - val_accuracy: 0.9635\n",
            "Epoch 22/75\n",
            "469/469 [==============================] - 1s 3ms/step - loss: 0.1967 - accuracy: 0.9455 - val_loss: 0.1686 - val_accuracy: 0.9644\n",
            "Epoch 23/75\n",
            "469/469 [==============================] - 1s 3ms/step - loss: 0.1905 - accuracy: 0.9477 - val_loss: 0.1801 - val_accuracy: 0.9632\n",
            "Epoch 24/75\n",
            "469/469 [==============================] - 1s 3ms/step - loss: 0.1839 - accuracy: 0.9485 - val_loss: 0.1696 - val_accuracy: 0.9642\n",
            "Epoch 25/75\n",
            "469/469 [==============================] - 1s 3ms/step - loss: 0.1781 - accuracy: 0.9514 - val_loss: 0.1828 - val_accuracy: 0.9628\n",
            "Epoch 26/75\n",
            "469/469 [==============================] - 1s 3ms/step - loss: 0.1801 - accuracy: 0.9494 - val_loss: 0.1763 - val_accuracy: 0.9636\n",
            "Epoch 27/75\n",
            "469/469 [==============================] - 1s 3ms/step - loss: 0.1736 - accuracy: 0.9524 - val_loss: 0.1834 - val_accuracy: 0.9641\n",
            "Epoch 28/75\n",
            "469/469 [==============================] - 1s 3ms/step - loss: 0.1714 - accuracy: 0.9523 - val_loss: 0.1812 - val_accuracy: 0.9649\n",
            "Epoch 29/75\n",
            "469/469 [==============================] - 1s 3ms/step - loss: 0.1678 - accuracy: 0.9525 - val_loss: 0.1752 - val_accuracy: 0.9653\n",
            "Epoch 30/75\n",
            "469/469 [==============================] - 1s 3ms/step - loss: 0.1670 - accuracy: 0.9538 - val_loss: 0.1995 - val_accuracy: 0.9612\n",
            "Epoch 31/75\n",
            "469/469 [==============================] - 1s 3ms/step - loss: 0.1647 - accuracy: 0.9542 - val_loss: 0.1625 - val_accuracy: 0.9670\n",
            "Epoch 32/75\n",
            "469/469 [==============================] - 1s 3ms/step - loss: 0.1569 - accuracy: 0.9564 - val_loss: 0.1666 - val_accuracy: 0.9655\n",
            "Epoch 33/75\n",
            "469/469 [==============================] - 1s 3ms/step - loss: 0.1616 - accuracy: 0.9539 - val_loss: 0.1743 - val_accuracy: 0.9643\n",
            "Epoch 34/75\n",
            "469/469 [==============================] - 1s 3ms/step - loss: 0.1560 - accuracy: 0.9560 - val_loss: 0.1726 - val_accuracy: 0.9664\n",
            "Epoch 35/75\n",
            "469/469 [==============================] - 1s 3ms/step - loss: 0.1556 - accuracy: 0.9563 - val_loss: 0.1714 - val_accuracy: 0.9649\n",
            "Epoch 36/75\n",
            "469/469 [==============================] - 1s 3ms/step - loss: 0.1495 - accuracy: 0.9574 - val_loss: 0.1657 - val_accuracy: 0.9674\n",
            "Epoch 37/75\n",
            "469/469 [==============================] - 1s 3ms/step - loss: 0.1506 - accuracy: 0.9575 - val_loss: 0.1672 - val_accuracy: 0.9669\n",
            "Epoch 38/75\n",
            "469/469 [==============================] - 1s 3ms/step - loss: 0.1472 - accuracy: 0.9582 - val_loss: 0.1645 - val_accuracy: 0.9675\n",
            "Epoch 39/75\n",
            "469/469 [==============================] - 1s 3ms/step - loss: 0.1467 - accuracy: 0.9584 - val_loss: 0.1668 - val_accuracy: 0.9663\n",
            "Epoch 40/75\n",
            "469/469 [==============================] - 1s 3ms/step - loss: 0.1438 - accuracy: 0.9590 - val_loss: 0.1798 - val_accuracy: 0.9630\n",
            "Epoch 41/75\n",
            "469/469 [==============================] - 1s 3ms/step - loss: 0.1411 - accuracy: 0.9599 - val_loss: 0.1773 - val_accuracy: 0.9669\n",
            "Epoch 42/75\n",
            "469/469 [==============================] - 1s 3ms/step - loss: 0.1388 - accuracy: 0.9604 - val_loss: 0.1751 - val_accuracy: 0.9648\n",
            "Epoch 43/75\n",
            "469/469 [==============================] - 1s 3ms/step - loss: 0.1352 - accuracy: 0.9613 - val_loss: 0.1787 - val_accuracy: 0.9668\n",
            "Epoch 44/75\n",
            "469/469 [==============================] - 1s 3ms/step - loss: 0.1362 - accuracy: 0.9615 - val_loss: 0.1774 - val_accuracy: 0.9642\n",
            "Epoch 45/75\n",
            "469/469 [==============================] - 1s 3ms/step - loss: 0.1320 - accuracy: 0.9625 - val_loss: 0.1702 - val_accuracy: 0.9659\n",
            "Epoch 46/75\n",
            "469/469 [==============================] - 1s 3ms/step - loss: 0.1331 - accuracy: 0.9615 - val_loss: 0.1712 - val_accuracy: 0.9650\n",
            "Epoch 47/75\n",
            "469/469 [==============================] - 1s 3ms/step - loss: 0.1283 - accuracy: 0.9634 - val_loss: 0.1847 - val_accuracy: 0.9632\n",
            "Epoch 48/75\n",
            "469/469 [==============================] - 1s 3ms/step - loss: 0.1256 - accuracy: 0.9633 - val_loss: 0.1722 - val_accuracy: 0.9667\n",
            "Epoch 49/75\n",
            "469/469 [==============================] - 1s 3ms/step - loss: 0.1257 - accuracy: 0.9636 - val_loss: 0.1813 - val_accuracy: 0.9654\n",
            "Epoch 50/75\n",
            "469/469 [==============================] - 1s 3ms/step - loss: 0.1227 - accuracy: 0.9642 - val_loss: 0.1923 - val_accuracy: 0.9634\n",
            "Epoch 51/75\n",
            "469/469 [==============================] - 1s 3ms/step - loss: 0.1225 - accuracy: 0.9641 - val_loss: 0.1918 - val_accuracy: 0.9628\n"
          ]
        }
      ]
    },
    {
      "cell_type": "markdown",
      "metadata": {
        "id": "AqR35zyv7SQM"
      },
      "source": [
        "Accuracy is approximately 0.95 when the model is trained over the training data and receives around 0.96 validation accuracy"
      ]
    },
    {
      "cell_type": "code",
      "metadata": {
        "colab": {
          "base_uri": "https://localhost:8080/",
          "height": 406
        },
        "id": "Q8YEvTNS1D11",
        "outputId": "6efedb3a-a9a7-4b3a-c5d1-0922b4dafcba"
      },
      "source": [
        "#PLot for the model with constant learning rate\n",
        "# Plot the loss function\n",
        "fig, ax = plt.subplots(1, 1, figsize=(10,6))\n",
        "ax.plot(np.sqrt(exp_history.history['loss']), 'r', label='train')\n",
        "ax.plot(np.sqrt(exp_history.history['val_loss']), 'b' ,label='val')\n",
        "ax.set_xlabel(r'Epoch', fontsize=20)\n",
        "ax.set_ylabel(r'Loss', fontsize=20)\n",
        "ax.legend()\n",
        "ax.tick_params(labelsize=20)"
      ],
      "execution_count": 187,
      "outputs": [
        {
          "output_type": "display_data",
          "data": {
            "image/png": "[encoded data removed]",
            "text/plain": [
              "<Figure size 720x432 with 1 Axes>"
            ]
          },
          "metadata": {
            "needs_background": "light"
          }
        }
      ]
    },
    {
      "cell_type": "markdown",
      "metadata": {
        "id": "5MSlLn8o36lo"
      },
      "source": [
        "# **Using SGD Optimizer**"
      ]
    },
    {
      "cell_type": "code",
      "metadata": {
        "id": "fxbrNeRs3ne6"
      },
      "source": [
        "def dense_model_sgd():\n",
        "  # Creating a Sequential Model and adding the layers\n",
        "  model = Sequential()\n",
        "  model.add(Dense(40, activation=tf.nn.relu))\n",
        "  model.add(Flatten())\n",
        "  model.add(Dense(20,activation=tf.nn.softmax))\n",
        "  model.add(Dropout(0.2))\n",
        "  model.add(Dense(10,activation=tf.nn.sigmoid))\n",
        "\n",
        "  model.add(Dense(num_classes,activation=tf.nn.softmax))\n",
        "\n",
        "  sgd_opt = tf.keras.optimizers.SGD(learning_rate=0.002)\n",
        "\n",
        "  model.compile(loss='categorical_crossentropy', metrics=['accuracy'], optimizer=sgd_opt)\n",
        "\n",
        "  return model"
      ],
      "execution_count": 188,
      "outputs": []
    },
    {
      "cell_type": "code",
      "metadata": {
        "id": "rd8hzQKb4UWk"
      },
      "source": [
        "\n",
        "\n",
        "exp_model = dense_model_rms()\n",
        "lr_rate = LearningRateScheduler(exp_learning)\n",
        "\n",
        "\n",
        "es = EarlyStopping(monitor='val_loss', patience=50)\n",
        "\n",
        "checkpoint_filepath = 'weights-improvement_rms.hdf5'\n",
        "\n",
        "model_checkpoint = tf.keras.callbacks.ModelCheckpoint(\n",
        "    filepath=checkpoint_filepath,\n",
        "    save_weights_only=True,\n",
        "    monitor='val_accuracy',\n",
        "    mode='max',\n",
        "    save_best_only=True)\n",
        "\n",
        "callbacks_list = [lr_rate,es]"
      ],
      "execution_count": 193,
      "outputs": []
    },
    {
      "cell_type": "code",
      "metadata": {
        "id": "vwYyedG77hYK",
        "outputId": "f6431cc6-0307-4fcc-f1c0-7ca10332e86a",
        "colab": {
          "base_uri": "https://localhost:8080/"
        }
      },
      "source": [
        "exp_history = exp_model.fit(X_train, Y_train,\n",
        "                        batch_size=128,\n",
        "                        epochs=100,\n",
        "                        callbacks=callbacks_list,\n",
        "                        verbose=1,\n",
        "                        validation_data=(X_test, Y_test))"
      ],
      "execution_count": null,
      "outputs": [
        {
          "output_type": "stream",
          "name": "stdout",
          "text": [
            "Epoch 1/75\n",
            "469/469 [==============================] - 2s 3ms/step - loss: 2.0066 - accuracy: 0.2874 - val_loss: 1.6141 - val_accuracy: 0.3981\n",
            "Epoch 2/75\n",
            "469/469 [==============================] - 1s 3ms/step - loss: 1.5598 - accuracy: 0.3476 - val_loss: 1.2938 - val_accuracy: 0.4132\n",
            "Epoch 3/75\n",
            "469/469 [==============================] - 1s 3ms/step - loss: 1.4533 - accuracy: 0.3688 - val_loss: 1.2026 - val_accuracy: 0.5537\n",
            "Epoch 4/75\n",
            "469/469 [==============================] - 1s 3ms/step - loss: 1.2866 - accuracy: 0.4976 - val_loss: 1.0027 - val_accuracy: 0.6784\n",
            "Epoch 5/75\n",
            "469/469 [==============================] - 1s 3ms/step - loss: 1.0407 - accuracy: 0.6349 - val_loss: 0.7692 - val_accuracy: 0.7800\n",
            "Epoch 6/75\n",
            "469/469 [==============================] - 1s 3ms/step - loss: 0.8402 - accuracy: 0.7103 - val_loss: 0.5938 - val_accuracy: 0.8214\n",
            "Epoch 7/75\n",
            "469/469 [==============================] - 1s 3ms/step - loss: 0.7203 - accuracy: 0.7424 - val_loss: 0.4987 - val_accuracy: 0.8543\n",
            "Epoch 8/75\n",
            "469/469 [==============================] - 1s 3ms/step - loss: 0.6267 - accuracy: 0.7983 - val_loss: 0.3901 - val_accuracy: 0.9210\n",
            "Epoch 9/75\n",
            "469/469 [==============================] - 1s 3ms/step - loss: 0.5372 - accuracy: 0.8326 - val_loss: 0.3240 - val_accuracy: 0.9395\n",
            "Epoch 10/75\n",
            "469/469 [==============================] - 1s 3ms/step - loss: 0.4907 - accuracy: 0.8446 - val_loss: 0.2899 - val_accuracy: 0.9487\n",
            "Epoch 11/75\n",
            "469/469 [==============================] - 1s 3ms/step - loss: 0.4632 - accuracy: 0.8475 - val_loss: 0.2758 - val_accuracy: 0.9518\n",
            "Epoch 12/75\n",
            "469/469 [==============================] - 1s 3ms/step - loss: 0.4367 - accuracy: 0.8540 - val_loss: 0.2620 - val_accuracy: 0.9545\n",
            "Epoch 13/75\n",
            "469/469 [==============================] - 1s 3ms/step - loss: 0.4100 - accuracy: 0.8616 - val_loss: 0.2425 - val_accuracy: 0.9581\n",
            "Epoch 14/75\n",
            "469/469 [==============================] - 1s 3ms/step - loss: 0.3865 - accuracy: 0.8731 - val_loss: 0.2269 - val_accuracy: 0.9565\n",
            "Epoch 15/75\n",
            "469/469 [==============================] - 1s 3ms/step - loss: 0.3433 - accuracy: 0.8916 - val_loss: 0.2033 - val_accuracy: 0.9607\n",
            "Epoch 16/75\n",
            "469/469 [==============================] - 1s 3ms/step - loss: 0.3147 - accuracy: 0.8983 - val_loss: 0.1874 - val_accuracy: 0.9606\n",
            "Epoch 17/75\n",
            "469/469 [==============================] - 1s 3ms/step - loss: 0.2934 - accuracy: 0.9032 - val_loss: 0.1847 - val_accuracy: 0.9616\n",
            "Epoch 18/75\n",
            "469/469 [==============================] - 1s 3ms/step - loss: 0.2858 - accuracy: 0.9078 - val_loss: 0.1835 - val_accuracy: 0.9607\n",
            "Epoch 19/75\n",
            "469/469 [==============================] - 1s 3ms/step - loss: 0.2584 - accuracy: 0.9208 - val_loss: 0.1792 - val_accuracy: 0.9612\n",
            "Epoch 20/75\n",
            "469/469 [==============================] - 1s 3ms/step - loss: 0.2415 - accuracy: 0.9295 - val_loss: 0.1821 - val_accuracy: 0.9599\n",
            "Epoch 21/75\n",
            "469/469 [==============================] - 1s 3ms/step - loss: 0.2229 - accuracy: 0.9358 - val_loss: 0.1603 - val_accuracy: 0.9654\n",
            "Epoch 22/75\n",
            "469/469 [==============================] - 1s 3ms/step - loss: 0.2130 - accuracy: 0.9409 - val_loss: 0.1627 - val_accuracy: 0.9634\n",
            "Epoch 23/75\n",
            "469/469 [==============================] - 1s 3ms/step - loss: 0.1966 - accuracy: 0.9465 - val_loss: 0.1696 - val_accuracy: 0.9627\n",
            "Epoch 24/75\n",
            "469/469 [==============================] - 1s 3ms/step - loss: 0.1869 - accuracy: 0.9498 - val_loss: 0.1628 - val_accuracy: 0.9649\n",
            "Epoch 25/75\n",
            "469/469 [==============================] - 1s 3ms/step - loss: 0.1771 - accuracy: 0.9531 - val_loss: 0.1601 - val_accuracy: 0.9653\n",
            "Epoch 26/75\n",
            "469/469 [==============================] - 1s 3ms/step - loss: 0.1694 - accuracy: 0.9551 - val_loss: 0.1641 - val_accuracy: 0.9661\n",
            "Epoch 27/75\n",
            "469/469 [==============================] - 1s 3ms/step - loss: 0.1619 - accuracy: 0.9578 - val_loss: 0.1587 - val_accuracy: 0.9650\n",
            "Epoch 28/75\n",
            "469/469 [==============================] - 1s 3ms/step - loss: 0.1533 - accuracy: 0.9597 - val_loss: 0.1589 - val_accuracy: 0.9660\n",
            "Epoch 29/75\n",
            "469/469 [==============================] - 1s 3ms/step - loss: 0.1521 - accuracy: 0.9598 - val_loss: 0.1505 - val_accuracy: 0.9671\n",
            "Epoch 30/75\n",
            "469/469 [==============================] - 1s 3ms/step - loss: 0.1423 - accuracy: 0.9619 - val_loss: 0.1534 - val_accuracy: 0.9676\n",
            "Epoch 31/75\n",
            "469/469 [==============================] - 1s 3ms/step - loss: 0.1380 - accuracy: 0.9636 - val_loss: 0.1505 - val_accuracy: 0.9683\n",
            "Epoch 32/75\n",
            "469/469 [==============================] - 1s 3ms/step - loss: 0.1313 - accuracy: 0.9649 - val_loss: 0.1532 - val_accuracy: 0.9673\n",
            "Epoch 33/75\n",
            "469/469 [==============================] - 1s 3ms/step - loss: 0.1288 - accuracy: 0.9668 - val_loss: 0.1647 - val_accuracy: 0.9653\n",
            "Epoch 34/75\n",
            "469/469 [==============================] - 1s 3ms/step - loss: 0.1266 - accuracy: 0.9653 - val_loss: 0.1649 - val_accuracy: 0.9664\n",
            "Epoch 35/75\n",
            "469/469 [==============================] - 1s 3ms/step - loss: 0.1212 - accuracy: 0.9679 - val_loss: 0.1636 - val_accuracy: 0.9643\n",
            "Epoch 36/75\n",
            "469/469 [==============================] - 1s 3ms/step - loss: 0.1232 - accuracy: 0.9668 - val_loss: 0.1621 - val_accuracy: 0.9662\n",
            "Epoch 37/75\n",
            "469/469 [==============================] - 1s 3ms/step - loss: 0.1192 - accuracy: 0.9678 - val_loss: 0.1702 - val_accuracy: 0.9631\n",
            "Epoch 38/75\n",
            "469/469 [==============================] - 1s 3ms/step - loss: 0.1163 - accuracy: 0.9679 - val_loss: 0.1702 - val_accuracy: 0.9652\n",
            "Epoch 39/75\n",
            "469/469 [==============================] - 1s 3ms/step - loss: 0.1147 - accuracy: 0.9680 - val_loss: 0.1641 - val_accuracy: 0.9666\n",
            "Epoch 40/75\n",
            "469/469 [==============================] - 1s 3ms/step - loss: 0.1116 - accuracy: 0.9698 - val_loss: 0.1590 - val_accuracy: 0.9693\n",
            "Epoch 41/75\n",
            "469/469 [==============================] - 1s 3ms/step - loss: 0.1121 - accuracy: 0.9693 - val_loss: 0.1529 - val_accuracy: 0.9693\n",
            "Epoch 42/75\n",
            "469/469 [==============================] - 1s 3ms/step - loss: 0.1106 - accuracy: 0.9699 - val_loss: 0.1656 - val_accuracy: 0.9653\n",
            "Epoch 43/75\n",
            "469/469 [==============================] - 1s 3ms/step - loss: 0.1098 - accuracy: 0.9696 - val_loss: 0.1597 - val_accuracy: 0.9685\n",
            "Epoch 44/75\n",
            "469/469 [==============================] - 1s 3ms/step - loss: 0.1073 - accuracy: 0.9704 - val_loss: 0.1566 - val_accuracy: 0.9673\n",
            "Epoch 45/75\n",
            "469/469 [==============================] - 1s 3ms/step - loss: 0.1082 - accuracy: 0.9707 - val_loss: 0.1685 - val_accuracy: 0.9647\n",
            "Epoch 46/75\n",
            "469/469 [==============================] - 1s 3ms/step - loss: 0.1043 - accuracy: 0.9715 - val_loss: 0.1604 - val_accuracy: 0.9674\n",
            "Epoch 47/75\n",
            "469/469 [==============================] - 1s 3ms/step - loss: 0.1033 - accuracy: 0.9714 - val_loss: 0.1771 - val_accuracy: 0.9642\n",
            "Epoch 48/75\n",
            "469/469 [==============================] - 1s 3ms/step - loss: 0.1019 - accuracy: 0.9719 - val_loss: 0.1581 - val_accuracy: 0.9675\n",
            "Epoch 49/75\n",
            "469/469 [==============================] - 1s 3ms/step - loss: 0.1026 - accuracy: 0.9714 - val_loss: 0.1653 - val_accuracy: 0.9683\n",
            "Epoch 50/75\n",
            "469/469 [==============================] - 1s 3ms/step - loss: 0.1022 - accuracy: 0.9721 - val_loss: 0.1651 - val_accuracy: 0.9673\n",
            "Epoch 51/75\n",
            "469/469 [==============================] - 1s 3ms/step - loss: 0.0994 - accuracy: 0.9725 - val_loss: 0.1692 - val_accuracy: 0.9671\n",
            "Epoch 52/75\n",
            "469/469 [==============================] - 1s 3ms/step - loss: 0.0990 - accuracy: 0.9729 - val_loss: 0.1710 - val_accuracy: 0.9677\n",
            "Epoch 53/75\n",
            "469/469 [==============================] - 1s 3ms/step - loss: 0.0957 - accuracy: 0.9739 - val_loss: 0.1662 - val_accuracy: 0.9674\n",
            "Epoch 54/75\n",
            "469/469 [==============================] - 1s 3ms/step - loss: 0.0962 - accuracy: 0.9731 - val_loss: 0.1791 - val_accuracy: 0.9658\n",
            "Epoch 55/75\n",
            "469/469 [==============================] - 1s 3ms/step - loss: 0.0951 - accuracy: 0.9739 - val_loss: 0.1768 - val_accuracy: 0.9664\n",
            "Epoch 56/75\n",
            "469/469 [==============================] - 1s 3ms/step - loss: 0.0922 - accuracy: 0.9748 - val_loss: 0.1745 - val_accuracy: 0.9652\n",
            "Epoch 57/75\n",
            "469/469 [==============================] - 1s 3ms/step - loss: 0.0901 - accuracy: 0.9753 - val_loss: 0.1800 - val_accuracy: 0.9645\n",
            "Epoch 58/75\n",
            "469/469 [==============================] - 1s 3ms/step - loss: 0.0943 - accuracy: 0.9739 - val_loss: 0.1735 - val_accuracy: 0.9675\n",
            "Epoch 59/75\n",
            "469/469 [==============================] - 1s 3ms/step - loss: 0.0917 - accuracy: 0.9750 - val_loss: 0.1843 - val_accuracy: 0.9642\n",
            "Epoch 60/75\n",
            "469/469 [==============================] - 1s 3ms/step - loss: 0.0903 - accuracy: 0.9748 - val_loss: 0.1743 - val_accuracy: 0.9656\n",
            "Epoch 61/75\n",
            "469/469 [==============================] - 1s 3ms/step - loss: 0.0921 - accuracy: 0.9739 - val_loss: 0.1778 - val_accuracy: 0.9656\n",
            "Epoch 62/75\n",
            "469/469 [==============================] - 1s 3ms/step - loss: 0.0894 - accuracy: 0.9758 - val_loss: 0.1760 - val_accuracy: 0.9666\n",
            "Epoch 63/75\n",
            "469/469 [==============================] - 1s 3ms/step - loss: 0.0905 - accuracy: 0.9747 - val_loss: 0.1829 - val_accuracy: 0.9670\n",
            "Epoch 64/75\n",
            "469/469 [==============================] - 1s 3ms/step - loss: 0.0888 - accuracy: 0.9751 - val_loss: 0.1787 - val_accuracy: 0.9657\n",
            "Epoch 65/75\n",
            "469/469 [==============================] - 1s 3ms/step - loss: 0.0867 - accuracy: 0.9759 - val_loss: 0.1874 - val_accuracy: 0.9649\n",
            "Epoch 66/75\n",
            "469/469 [==============================] - 1s 3ms/step - loss: 0.0881 - accuracy: 0.9758 - val_loss: 0.1865 - val_accuracy: 0.9655\n",
            "Epoch 67/75\n",
            "469/469 [==============================] - 1s 3ms/step - loss: 0.0851 - accuracy: 0.9769 - val_loss: 0.1838 - val_accuracy: 0.9665\n",
            "Epoch 68/75\n",
            "469/469 [==============================] - 1s 3ms/step - loss: 0.0871 - accuracy: 0.9758 - val_loss: 0.1838 - val_accuracy: 0.9652\n",
            "Epoch 69/75\n",
            "469/469 [==============================] - 1s 3ms/step - loss: 0.0884 - accuracy: 0.9754 - val_loss: 0.1880 - val_accuracy: 0.9662\n",
            "Epoch 70/75\n",
            "469/469 [==============================] - 1s 3ms/step - loss: 0.0869 - accuracy: 0.9759 - val_loss: 0.1844 - val_accuracy: 0.9656\n",
            "Epoch 71/75\n",
            "469/469 [==============================] - 1s 3ms/step - loss: 0.0884 - accuracy: 0.9762 - val_loss: 0.1901 - val_accuracy: 0.9643\n",
            "Epoch 72/75\n",
            "469/469 [==============================] - 1s 3ms/step - loss: 0.0815 - accuracy: 0.9776 - val_loss: 0.1916 - val_accuracy: 0.9647\n",
            "Epoch 73/75\n",
            "469/469 [==============================] - 1s 3ms/step - loss: 0.0819 - accuracy: 0.9780 - val_loss: 0.1832 - val_accuracy: 0.9647\n",
            "Epoch 74/75\n",
            "469/469 [==============================] - 1s 3ms/step - loss: 0.0827 - accuracy: 0.9774 - val_loss: 0.1965 - val_accuracy: 0.9639\n",
            "Epoch 75/75\n",
            "469/469 [==============================] - 1s 3ms/step - loss: 0.0807 - accuracy: 0.9781 - val_loss: 0.1869 - val_accuracy: 0.9660\n"
          ]
        }
      ]
    },
    {
      "cell_type": "markdown",
      "metadata": {
        "id": "Zy5xPjyR7nFq"
      },
      "source": [
        "Accuracy is approximately 0.97 when the model is trained over the training data and receives around 0.96 validation accuracy"
      ]
    },
    {
      "cell_type": "code",
      "metadata": {
        "id": "UUxet3og7jVI",
        "outputId": "77a84935-45f2-49de-a6b4-10b97c2a7a30",
        "colab": {
          "base_uri": "https://localhost:8080/",
          "height": 400
        }
      },
      "source": [
        "#PLot for the model with constant learning rate\n",
        "# Plot the loss function\n",
        "fig, ax = plt.subplots(1, 1, figsize=(10,6))\n",
        "ax.plot(np.sqrt(exp_history.history['loss']), 'r', label='train')\n",
        "ax.plot(np.sqrt(exp_history.history['val_loss']), 'b' ,label='val')\n",
        "ax.set_xlabel(r'Epoch', fontsize=20)\n",
        "ax.set_ylabel(r'Loss', fontsize=20)\n",
        "ax.legend()\n",
        "ax.tick_params(labelsize=20)"
      ],
      "execution_count": 192,
      "outputs": [
        {
          "output_type": "display_data",
          "data": {
            "image/png": "[encoded data removed]",
            "text/plain": [
              "<Figure size 720x432 with 1 Axes>"
            ]
          },
          "metadata": {
            "needs_background": "light"
          }
        }
      ]
    },
    {
      "cell_type": "code",
      "metadata": {
        "id": "ABcRWdaW7mFu"
      },
      "source": [
        ""
      ],
      "execution_count": null,
      "outputs": []
    }
  ]
}